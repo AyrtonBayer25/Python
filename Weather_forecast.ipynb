{
 "cells": [
  {
   "cell_type": "code",
   "execution_count": 2,
   "metadata": {},
   "outputs": [],
   "source": [
    "# Python program to find current  \n",
    "# weather details of any city \n",
    "# using openweathermap api \n",
    "  \n",
    "# import required modules \n",
    "import requests, json \n",
    "  \n",
    "# Enter your API key here\n",
    "api_key = \"aa5d1a5eaf1982e1f7d1a4b729802ac0\""
   ]
  },
  {
   "cell_type": "code",
   "execution_count": 3,
   "metadata": {},
   "outputs": [],
   "source": [
    "# base_url variable to store url \n",
    "base_url = \"http://api.openweathermap.org/data/2.5/weather?\""
   ]
  },
  {
   "cell_type": "code",
   "execution_count": 4,
   "metadata": {},
   "outputs": [
    {
     "name": "stdout",
     "output_type": "stream",
     "text": [
      "Enter city name :Paris\n"
     ]
    }
   ],
   "source": [
    "# Give city name \n",
    "city_name = input(\"Enter city name :\") "
   ]
  },
  {
   "cell_type": "code",
   "execution_count": 5,
   "metadata": {},
   "outputs": [],
   "source": [
    "# complete_url variable to store \n",
    "# complete url address \n",
    "complete_url = base_url + \"appid=\" + api_key + \"&q=\" + city_name"
   ]
  },
  {
   "cell_type": "code",
   "execution_count": 6,
   "metadata": {},
   "outputs": [],
   "source": [
    "# get method of requests module \n",
    "# return response object \n",
    "response = requests.get(complete_url)"
   ]
  },
  {
   "cell_type": "code",
   "execution_count": 7,
   "metadata": {},
   "outputs": [],
   "source": [
    "# json method of response object  \n",
    "# convert json format data into \n",
    "# python format data \n",
    "x = response.json()"
   ]
  },
  {
   "cell_type": "code",
   "execution_count": 13,
   "metadata": {},
   "outputs": [
    {
     "name": "stdout",
     "output_type": "stream",
     "text": [
      " Temperature (in kelvin unit) = 286.71\n",
      " atmospheric pressure (in hPa unit) = 1023\n",
      " humidity (in percentage) = 76\n",
      " description = clear sky\n"
     ]
    }
   ],
   "source": [
    "# Now x contains list of nested dictionaries \n",
    "# Check the value of \"cod\" key is equal to \n",
    "# \"404\", means city is found otherwise, \n",
    "# city is not found \n",
    "if x[\"cod\"] != \"404\":\n",
    "     # store the value of \"main\" \n",
    "    # key in variable y \n",
    "    y = x[\"main\"]\n",
    "    # store the value corresponding \n",
    "    # to the \"temp\" key of y \n",
    "    current_temperature = y[\"temp\"] \n",
    "  \n",
    "    # store the value corresponding \n",
    "    # to the \"pressure\" key of y \n",
    "    current_pressure = y[\"pressure\"] \n",
    "  \n",
    "    # store the value corresponding \n",
    "    # to the \"humidity\" key of y \n",
    "    current_humidity = y[\"humidity\"]\n",
    "    # store the value of \"weather\" \n",
    "    # key in variable z \n",
    "    z = x[\"weather\"] \n",
    "    weather_description = z[0][\"description\"]\n",
    "    # print following values\n",
    "    print(\" Temperature (in kelvin unit) = \" +\n",
    "      str(current_temperature) + \n",
    "      \"\\n atmospheric pressure (in hPa unit) = \" +\n",
    "      str(current_pressure) + \n",
    "       \"\\n humidity (in percentage) = \" +\n",
    "      str(current_humidity) + \n",
    "      \"\\n description = \" +\n",
    "      str(weather_description))\n",
    "\n",
    "else: \n",
    "    print(\" City Not Found \") "
   ]
  },
  {
   "cell_type": "code",
   "execution_count": null,
   "metadata": {},
   "outputs": [],
   "source": []
  }
 ],
 "metadata": {
  "kernelspec": {
   "display_name": "Python 3",
   "language": "python",
   "name": "python3"
  },
  "language_info": {
   "codemirror_mode": {
    "name": "ipython",
    "version": 3
   },
   "file_extension": ".py",
   "mimetype": "text/x-python",
   "name": "python",
   "nbconvert_exporter": "python",
   "pygments_lexer": "ipython3",
   "version": "3.7.3"
  }
 },
 "nbformat": 4,
 "nbformat_minor": 2
}
